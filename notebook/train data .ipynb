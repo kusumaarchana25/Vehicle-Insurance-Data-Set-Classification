{
 "cells": [
  {
   "cell_type": "markdown",
   "id": "4dcaeb26",
   "metadata": {},
   "source": [
    "Importing the libraries for the modeling"
   ]
  },
  {
   "cell_type": "code",
   "execution_count": 26,
   "id": "e8151264",
   "metadata": {},
   "outputs": [],
   "source": [
    "import pickle\n",
    "import pandas as pd\n",
    "from sklearn.model_selection import train_test_split\n",
    "from sklearn.preprocessing import StandardScaler\n",
    "from sklearn.linear_model import LogisticRegression\n",
    "from sklearn.neighbors import KNeighborsClassifier\n",
    "from sklearn.tree import DecisionTreeClassifier\n",
    "from sklearn.ensemble import RandomForestClassifier\n",
    "from sklearn.metrics import classification_report\n",
    "from sklearn.metrics import accuracy_score, precision_score, recall_score\n",
    "from sklearn.metrics import confusion_matrix\n"
   ]
  },
  {
   "cell_type": "code",
   "execution_count": 27,
   "id": "dc093b43",
   "metadata": {},
   "outputs": [
    {
     "data": {
      "text/html": [
       "<div>\n",
       "<style scoped>\n",
       "    .dataframe tbody tr th:only-of-type {\n",
       "        vertical-align: middle;\n",
       "    }\n",
       "\n",
       "    .dataframe tbody tr th {\n",
       "        vertical-align: top;\n",
       "    }\n",
       "\n",
       "    .dataframe thead th {\n",
       "        text-align: right;\n",
       "    }\n",
       "</style>\n",
       "<table border=\"1\" class=\"dataframe\">\n",
       "  <thead>\n",
       "    <tr style=\"text-align: right;\">\n",
       "      <th></th>\n",
       "      <th>Age</th>\n",
       "      <th>Driving_License</th>\n",
       "      <th>Region_Code</th>\n",
       "      <th>Previously_Insured</th>\n",
       "      <th>Annual_Premium</th>\n",
       "      <th>Policy_Sales_Channel</th>\n",
       "      <th>Vintage</th>\n",
       "      <th>Response</th>\n",
       "      <th>Gender_Male</th>\n",
       "      <th>Vehicle_Age_&lt; 1 Year</th>\n",
       "      <th>Vehicle_Age_&gt; 2 Years</th>\n",
       "      <th>Vehicle_Damage_Yes</th>\n",
       "    </tr>\n",
       "  </thead>\n",
       "  <tbody>\n",
       "    <tr>\n",
       "      <th>0</th>\n",
       "      <td>44</td>\n",
       "      <td>1</td>\n",
       "      <td>28.0</td>\n",
       "      <td>0</td>\n",
       "      <td>40454.0</td>\n",
       "      <td>26.0</td>\n",
       "      <td>217</td>\n",
       "      <td>1</td>\n",
       "      <td>1</td>\n",
       "      <td>0</td>\n",
       "      <td>1</td>\n",
       "      <td>1</td>\n",
       "    </tr>\n",
       "    <tr>\n",
       "      <th>1</th>\n",
       "      <td>76</td>\n",
       "      <td>1</td>\n",
       "      <td>3.0</td>\n",
       "      <td>0</td>\n",
       "      <td>33536.0</td>\n",
       "      <td>26.0</td>\n",
       "      <td>183</td>\n",
       "      <td>0</td>\n",
       "      <td>1</td>\n",
       "      <td>0</td>\n",
       "      <td>0</td>\n",
       "      <td>0</td>\n",
       "    </tr>\n",
       "    <tr>\n",
       "      <th>2</th>\n",
       "      <td>47</td>\n",
       "      <td>1</td>\n",
       "      <td>28.0</td>\n",
       "      <td>0</td>\n",
       "      <td>38294.0</td>\n",
       "      <td>26.0</td>\n",
       "      <td>27</td>\n",
       "      <td>1</td>\n",
       "      <td>1</td>\n",
       "      <td>0</td>\n",
       "      <td>1</td>\n",
       "      <td>1</td>\n",
       "    </tr>\n",
       "    <tr>\n",
       "      <th>3</th>\n",
       "      <td>21</td>\n",
       "      <td>1</td>\n",
       "      <td>11.0</td>\n",
       "      <td>1</td>\n",
       "      <td>28619.0</td>\n",
       "      <td>152.0</td>\n",
       "      <td>203</td>\n",
       "      <td>0</td>\n",
       "      <td>1</td>\n",
       "      <td>1</td>\n",
       "      <td>0</td>\n",
       "      <td>0</td>\n",
       "    </tr>\n",
       "    <tr>\n",
       "      <th>4</th>\n",
       "      <td>29</td>\n",
       "      <td>1</td>\n",
       "      <td>41.0</td>\n",
       "      <td>1</td>\n",
       "      <td>27496.0</td>\n",
       "      <td>152.0</td>\n",
       "      <td>39</td>\n",
       "      <td>0</td>\n",
       "      <td>0</td>\n",
       "      <td>1</td>\n",
       "      <td>0</td>\n",
       "      <td>0</td>\n",
       "    </tr>\n",
       "  </tbody>\n",
       "</table>\n",
       "</div>"
      ],
      "text/plain": [
       "   Age  Driving_License  Region_Code  Previously_Insured  Annual_Premium  \\\n",
       "0   44                1         28.0                   0         40454.0   \n",
       "1   76                1          3.0                   0         33536.0   \n",
       "2   47                1         28.0                   0         38294.0   \n",
       "3   21                1         11.0                   1         28619.0   \n",
       "4   29                1         41.0                   1         27496.0   \n",
       "\n",
       "   Policy_Sales_Channel  Vintage  Response  Gender_Male  Vehicle_Age_< 1 Year  \\\n",
       "0                  26.0      217         1            1                     0   \n",
       "1                  26.0      183         0            1                     0   \n",
       "2                  26.0       27         1            1                     0   \n",
       "3                 152.0      203         0            1                     1   \n",
       "4                 152.0       39         0            0                     1   \n",
       "\n",
       "   Vehicle_Age_> 2 Years  Vehicle_Damage_Yes  \n",
       "0                      1                   1  \n",
       "1                      0                   0  \n",
       "2                      1                   1  \n",
       "3                      0                   0  \n",
       "4                      0                   0  "
      ]
     },
     "execution_count": 27,
     "metadata": {},
     "output_type": "execute_result"
    }
   ],
   "source": [
    "#loading the dataset\n",
    "df_eda=pickle.load(open('C:\\\\Users\\\\Dell\\\\Desktop\\\\Vehicle Insurance Dataset\\\\model\\\\ExploratoryDataAnalysis.pkl', 'rb'))\n",
    "df_eda.head()"
   ]
  },
  {
   "cell_type": "code",
   "execution_count": 28,
   "id": "e609b9a0",
   "metadata": {},
   "outputs": [
    {
     "data": {
      "text/plain": [
       "0"
      ]
     },
     "execution_count": 28,
     "metadata": {},
     "output_type": "execute_result"
    }
   ],
   "source": [
    "df_eda.isnull().sum().sum()"
   ]
  },
  {
   "cell_type": "code",
   "execution_count": 29,
   "id": "cf8ce79f",
   "metadata": {},
   "outputs": [],
   "source": [
    "#independent and dependent variables\n",
    "X=df_eda.drop(columns=['Response'],axis=1)\n",
    "y=df_eda['Response']"
   ]
  },
  {
   "cell_type": "code",
   "execution_count": 30,
   "id": "43f1b189",
   "metadata": {},
   "outputs": [],
   "source": [
    "#spilting the data into train and test data\n",
    "X_train,X_test,y_train,y_test=train_test_split(X,y,test_size=0.3,random_state=1)"
   ]
  },
  {
   "cell_type": "code",
   "execution_count": 31,
   "id": "3aedb178",
   "metadata": {},
   "outputs": [
    {
     "data": {
      "text/plain": [
       "((259552, 11), (111237, 11), (259552,))"
      ]
     },
     "execution_count": 31,
     "metadata": {},
     "output_type": "execute_result"
    }
   ],
   "source": [
    "#shape of the train and test data\n",
    "X_train.shape,X_test.shape,y_train.shape"
   ]
  },
  {
   "cell_type": "code",
   "execution_count": 32,
   "id": "05f7ba5f",
   "metadata": {},
   "outputs": [],
   "source": [
    "#standardizing data\n",
    "scaler=StandardScaler()\n",
    "X_train=scaler.fit_transform(X_train)\n",
    "X_train=pd.DataFrame(X_train)\n",
    "X_test=scaler.fit_transform(X_test)\n",
    "X_test=pd.DataFrame(X_test)"
   ]
  },
  {
   "cell_type": "markdown",
   "id": "47120925",
   "metadata": {},
   "source": [
    "Building a Logistic Regression mode"
   ]
  },
  {
   "cell_type": "code",
   "execution_count": 33,
   "id": "13d5346d",
   "metadata": {},
   "outputs": [
    {
     "name": "stdout",
     "output_type": "stream",
     "text": [
      "performance of the traing data 0.8779782086055974\n",
      "              precision    recall  f1-score   support\n",
      "\n",
      "           0       0.88      1.00      0.94     97751\n",
      "           1       0.00      0.00      0.00     13486\n",
      "\n",
      "    accuracy                           0.88    111237\n",
      "   macro avg       0.44      0.50      0.47    111237\n",
      "weighted avg       0.77      0.88      0.82    111237\n",
      "\n"
     ]
    }
   ],
   "source": [
    "log_reg=LogisticRegression()\n",
    "log_reg.fit(X_train,y_train) #building a algorithm\n",
    "print('performance of the traing data',log_reg.score(X_train,y_train))\n",
    "y_pred_test_log=log_reg.predict(X_test)\n",
    "print(classification_report(y_test,y_pred_test_log))"
   ]
  },
  {
   "cell_type": "code",
   "execution_count": 34,
   "id": "63a0d13f",
   "metadata": {},
   "outputs": [
    {
     "name": "stdout",
     "output_type": "stream",
     "text": [
      "[[97749     2]\n",
      " [13486     0]]\n"
     ]
    },
    {
     "data": {
      "text/plain": [
       "<AxesSubplot:>"
      ]
     },
     "execution_count": 34,
     "metadata": {},
     "output_type": "execute_result"
    },
    {
     "data": {
      "image/png": "[encoded data removed]",
      "text/plain": [
       "<Figure size 432x288 with 2 Axes>"
      ]
     },
     "metadata": {},
     "output_type": "display_data"
    }
   ],
   "source": [
    "print(confusion_matrix(y_test,y_pred_test_log))\n",
    "import seaborn as sns\n",
    "sns.set(rc={'figure.facecolor':'red'})\n",
    "sns.heatmap(confusion_matrix(y_test,y_pred_test_log),annot=True)"
   ]
  },
  {
   "cell_type": "markdown",
   "id": "ad26481a",
   "metadata": {},
   "source": [
    "Building a KNN Classifier model"
   ]
  },
  {
   "cell_type": "markdown",
   "id": "f48cd3cb",
   "metadata": {},
   "source": [
    "Building a Decision Tree Classifier model"
   ]
  },
  {
   "cell_type": "code",
   "execution_count": 35,
   "id": "751bb1db",
   "metadata": {},
   "outputs": [
    {
     "name": "stdout",
     "output_type": "stream",
     "text": [
      "performance of the training data 0.9999075329799039\n",
      "              precision    recall  f1-score   support\n",
      "\n",
      "           0       0.90      0.89      0.90     97751\n",
      "           1       0.29      0.30      0.29     13486\n",
      "\n",
      "    accuracy                           0.82    111237\n",
      "   macro avg       0.59      0.60      0.60    111237\n",
      "weighted avg       0.83      0.82      0.83    111237\n",
      "\n"
     ]
    }
   ],
   "source": [
    "dtc=DecisionTreeClassifier()\n",
    "dtc.fit(X_train,y_train)\n",
    "print('performance of the training data',dtc.score(X_train,y_train))\n",
    "y_pred_dtc_test=dtc.predict(X_test)\n",
    "print(classification_report(y_test,y_pred_dtc_test))"
   ]
  },
  {
   "cell_type": "code",
   "execution_count": 36,
   "id": "88f008a5",
   "metadata": {},
   "outputs": [
    {
     "name": "stdout",
     "output_type": "stream",
     "text": [
      "[[87487 10264]\n",
      " [ 9386  4100]]\n"
     ]
    },
    {
     "data": {
      "text/plain": [
       "<AxesSubplot:>"
      ]
     },
     "execution_count": 36,
     "metadata": {},
     "output_type": "execute_result"
    },
    {
     "data": {
      "image/png": "[encoded data removed]",
      "text/plain": [
       "<Figure size 432x288 with 2 Axes>"
      ]
     },
     "metadata": {},
     "output_type": "display_data"
    }
   ],
   "source": [
    "print(confusion_matrix(y_test,y_pred_dtc_test))\n",
    "sns.heatmap(confusion_matrix(y_test,y_pred_dtc_test),annot=True)"
   ]
  },
  {
   "cell_type": "markdown",
   "id": "b17b3aeb",
   "metadata": {},
   "source": [
    "Building a Random Forest Classifier model"
   ]
  },
  {
   "cell_type": "code",
   "execution_count": 37,
   "id": "f4de711a",
   "metadata": {},
   "outputs": [
    {
     "name": "stdout",
     "output_type": "stream",
     "text": [
      "performance of the training data 0.9999036801873998\n",
      "              precision    recall  f1-score   support\n",
      "\n",
      "           0       0.89      0.97      0.93     97751\n",
      "           1       0.35      0.12      0.18     13486\n",
      "\n",
      "    accuracy                           0.87    111237\n",
      "   macro avg       0.62      0.54      0.55    111237\n",
      "weighted avg       0.82      0.87      0.84    111237\n",
      "\n"
     ]
    }
   ],
   "source": [
    "rfc=RandomForestClassifier()\n",
    "rfc.fit(X_train,y_train)\n",
    "print('performance of the training data',rfc.score(X_train,y_train))\n",
    "y_pred_rfc_test=rfc.predict(X_test)\n",
    "print(classification_report(y_test,y_pred_rfc_test))"
   ]
  },
  {
   "cell_type": "code",
   "execution_count": 38,
   "id": "47cf231d",
   "metadata": {},
   "outputs": [
    {
     "name": "stdout",
     "output_type": "stream",
     "text": [
      "[[94867  2884]\n",
      " [11904  1582]]\n"
     ]
    },
    {
     "data": {
      "text/plain": [
       "<AxesSubplot:>"
      ]
     },
     "execution_count": 38,
     "metadata": {},
     "output_type": "execute_result"
    },
    {
     "data": {
      "image/png": "[encoded data removed]",
      "text/plain": [
       "<Figure size 432x288 with 2 Axes>"
      ]
     },
     "metadata": {},
     "output_type": "display_data"
    }
   ],
   "source": [
    "print(confusion_matrix(y_test,y_pred_rfc_test))\n",
    "sns.heatmap(confusion_matrix(y_test,y_pred_rfc_test),annot=True)"
   ]
  },
  {
   "cell_type": "markdown",
   "id": "18605155",
   "metadata": {},
   "source": [
    "Evaluation Matrix Base Model (All)"
   ]
  },
  {
   "cell_type": "code",
   "execution_count": 39,
   "id": "47e22d32",
   "metadata": {},
   "outputs": [
    {
     "data": {
      "text/html": [
       "<div>\n",
       "<style scoped>\n",
       "    .dataframe tbody tr th:only-of-type {\n",
       "        vertical-align: middle;\n",
       "    }\n",
       "\n",
       "    .dataframe tbody tr th {\n",
       "        vertical-align: top;\n",
       "    }\n",
       "\n",
       "    .dataframe thead th {\n",
       "        text-align: right;\n",
       "    }\n",
       "</style>\n",
       "<table border=\"1\" class=\"dataframe\">\n",
       "  <thead>\n",
       "    <tr style=\"text-align: right;\">\n",
       "      <th></th>\n",
       "      <th>Precision_Test</th>\n",
       "      <th>Recall_Test</th>\n",
       "    </tr>\n",
       "  </thead>\n",
       "  <tbody>\n",
       "    <tr>\n",
       "      <th>LogReg</th>\n",
       "      <td>0.00</td>\n",
       "      <td>0.00</td>\n",
       "    </tr>\n",
       "    <tr>\n",
       "      <th>DTC</th>\n",
       "      <td>0.29</td>\n",
       "      <td>0.30</td>\n",
       "    </tr>\n",
       "    <tr>\n",
       "      <th>RF_Clas</th>\n",
       "      <td>0.35</td>\n",
       "      <td>0.12</td>\n",
       "    </tr>\n",
       "  </tbody>\n",
       "</table>\n",
       "</div>"
      ],
      "text/plain": [
       "         Precision_Test  Recall_Test\n",
       "LogReg             0.00         0.00\n",
       "DTC                0.29         0.30\n",
       "RF_Clas            0.35         0.12"
      ]
     },
     "execution_count": 39,
     "metadata": {},
     "output_type": "execute_result"
    }
   ],
   "source": [
    "prec_test_LR = precision_score(y_test, y_pred_test_log)\n",
    "prec_test_DTC = precision_score(y_test, y_pred_dtc_test)\n",
    "prec_test_RF = precision_score(y_test, y_pred_rfc_test)\n",
    "rec_test_LR = recall_score(y_test, y_pred_test_log)\n",
    "rec_test_DTC = recall_score(y_test, y_pred_dtc_test)\n",
    "rec_test_RF = recall_score(y_test, y_pred_rfc_test)\n",
    "EM = {\n",
    "      'Precision_Test':[prec_test_LR, prec_test_DTC, prec_test_RF],\n",
    "      'Recall_Test':[rec_test_LR, rec_test_DTC, rec_test_RF]\n",
    "}\n",
    "mod_base = pd.DataFrame(data=EM, index=['LogReg','DTC','RF_Clas']).round(2)\n",
    "mod_base"
   ]
  },
  {
   "cell_type": "markdown",
   "id": "3927c172",
   "metadata": {},
   "source": [
    "Data Improvement"
   ]
  },
  {
   "cell_type": "markdown",
   "id": "02d9580d",
   "metadata": {},
   "source": [
    "As we know the target variable data are imbalanced, so we will try to do data improvement with Random Over Sampling and Random Under Sampling"
   ]
  },
  {
   "cell_type": "code",
   "execution_count": 40,
   "id": "ce6988ec",
   "metadata": {},
   "outputs": [
    {
     "data": {
      "text/html": [
       "<div>\n",
       "<style scoped>\n",
       "    .dataframe tbody tr th:only-of-type {\n",
       "        vertical-align: middle;\n",
       "    }\n",
       "\n",
       "    .dataframe tbody tr th {\n",
       "        vertical-align: top;\n",
       "    }\n",
       "\n",
       "    .dataframe thead th {\n",
       "        text-align: right;\n",
       "    }\n",
       "</style>\n",
       "<table border=\"1\" class=\"dataframe\">\n",
       "  <thead>\n",
       "    <tr style=\"text-align: right;\">\n",
       "      <th></th>\n",
       "      <th>0</th>\n",
       "      <th>1</th>\n",
       "      <th>2</th>\n",
       "      <th>3</th>\n",
       "      <th>4</th>\n",
       "      <th>5</th>\n",
       "      <th>6</th>\n",
       "      <th>7</th>\n",
       "      <th>8</th>\n",
       "      <th>9</th>\n",
       "      <th>10</th>\n",
       "      <th>Response</th>\n",
       "    </tr>\n",
       "  </thead>\n",
       "  <tbody>\n",
       "    <tr>\n",
       "      <th>0</th>\n",
       "      <td>-0.562032</td>\n",
       "      <td>0.044934</td>\n",
       "      <td>0.118010</td>\n",
       "      <td>1.085516</td>\n",
       "      <td>-0.057017</td>\n",
       "      <td>0.730568</td>\n",
       "      <td>-0.315536</td>\n",
       "      <td>-1.082674</td>\n",
       "      <td>1.138075</td>\n",
       "      <td>-0.205431</td>\n",
       "      <td>-1.006944</td>\n",
       "      <td>1.0</td>\n",
       "    </tr>\n",
       "    <tr>\n",
       "      <th>1</th>\n",
       "      <td>0.474032</td>\n",
       "      <td>0.044934</td>\n",
       "      <td>-1.761117</td>\n",
       "      <td>-0.921221</td>\n",
       "      <td>0.238916</td>\n",
       "      <td>-1.601813</td>\n",
       "      <td>0.711763</td>\n",
       "      <td>0.923639</td>\n",
       "      <td>-0.878677</td>\n",
       "      <td>-0.205431</td>\n",
       "      <td>0.993104</td>\n",
       "      <td>0.0</td>\n",
       "    </tr>\n",
       "    <tr>\n",
       "      <th>2</th>\n",
       "      <td>-0.044000</td>\n",
       "      <td>0.044934</td>\n",
       "      <td>-1.761117</td>\n",
       "      <td>-0.921221</td>\n",
       "      <td>-0.268164</td>\n",
       "      <td>0.212261</td>\n",
       "      <td>-1.091983</td>\n",
       "      <td>0.923639</td>\n",
       "      <td>-0.878677</td>\n",
       "      <td>-0.205431</td>\n",
       "      <td>0.993104</td>\n",
       "      <td>1.0</td>\n",
       "    </tr>\n",
       "    <tr>\n",
       "      <th>4</th>\n",
       "      <td>0.538786</td>\n",
       "      <td>0.044934</td>\n",
       "      <td>0.118010</td>\n",
       "      <td>1.085516</td>\n",
       "      <td>1.197796</td>\n",
       "      <td>-1.601813</td>\n",
       "      <td>0.210059</td>\n",
       "      <td>-1.082674</td>\n",
       "      <td>-0.878677</td>\n",
       "      <td>-0.205431</td>\n",
       "      <td>-1.006944</td>\n",
       "      <td>0.0</td>\n",
       "    </tr>\n",
       "    <tr>\n",
       "      <th>5</th>\n",
       "      <td>-0.756293</td>\n",
       "      <td>0.044934</td>\n",
       "      <td>-0.408146</td>\n",
       "      <td>1.085516</td>\n",
       "      <td>-1.807175</td>\n",
       "      <td>0.730568</td>\n",
       "      <td>-1.199491</td>\n",
       "      <td>0.923639</td>\n",
       "      <td>1.138075</td>\n",
       "      <td>-0.205431</td>\n",
       "      <td>-1.006944</td>\n",
       "      <td>0.0</td>\n",
       "    </tr>\n",
       "    <tr>\n",
       "      <th>...</th>\n",
       "      <td>...</td>\n",
       "      <td>...</td>\n",
       "      <td>...</td>\n",
       "      <td>...</td>\n",
       "      <td>...</td>\n",
       "      <td>...</td>\n",
       "      <td>...</td>\n",
       "      <td>...</td>\n",
       "      <td>...</td>\n",
       "      <td>...</td>\n",
       "      <td>...</td>\n",
       "      <td>...</td>\n",
       "    </tr>\n",
       "    <tr>\n",
       "      <th>259547</th>\n",
       "      <td>-0.691539</td>\n",
       "      <td>0.044934</td>\n",
       "      <td>1.245486</td>\n",
       "      <td>1.085516</td>\n",
       "      <td>-0.197488</td>\n",
       "      <td>0.730568</td>\n",
       "      <td>-0.614169</td>\n",
       "      <td>-1.082674</td>\n",
       "      <td>1.138075</td>\n",
       "      <td>-0.205431</td>\n",
       "      <td>-1.006944</td>\n",
       "      <td>0.0</td>\n",
       "    </tr>\n",
       "    <tr>\n",
       "      <th>259548</th>\n",
       "      <td>-0.626786</td>\n",
       "      <td>0.044934</td>\n",
       "      <td>0.719331</td>\n",
       "      <td>1.085516</td>\n",
       "      <td>0.276017</td>\n",
       "      <td>0.730568</td>\n",
       "      <td>-1.414507</td>\n",
       "      <td>-1.082674</td>\n",
       "      <td>1.138075</td>\n",
       "      <td>-0.205431</td>\n",
       "      <td>-1.006944</td>\n",
       "      <td>0.0</td>\n",
       "    </tr>\n",
       "    <tr>\n",
       "      <th>259549</th>\n",
       "      <td>-0.238262</td>\n",
       "      <td>0.044934</td>\n",
       "      <td>-0.483311</td>\n",
       "      <td>-0.921221</td>\n",
       "      <td>-1.807175</td>\n",
       "      <td>0.804612</td>\n",
       "      <td>0.974561</td>\n",
       "      <td>-1.082674</td>\n",
       "      <td>-0.878677</td>\n",
       "      <td>-0.205431</td>\n",
       "      <td>0.993104</td>\n",
       "      <td>0.0</td>\n",
       "    </tr>\n",
       "    <tr>\n",
       "      <th>259550</th>\n",
       "      <td>-0.885801</td>\n",
       "      <td>0.044934</td>\n",
       "      <td>0.268340</td>\n",
       "      <td>1.085516</td>\n",
       "      <td>-1.807175</td>\n",
       "      <td>0.730568</td>\n",
       "      <td>0.652037</td>\n",
       "      <td>-1.082674</td>\n",
       "      <td>1.138075</td>\n",
       "      <td>-0.205431</td>\n",
       "      <td>-1.006944</td>\n",
       "      <td>1.0</td>\n",
       "    </tr>\n",
       "    <tr>\n",
       "      <th>259551</th>\n",
       "      <td>-1.015309</td>\n",
       "      <td>0.044934</td>\n",
       "      <td>0.118010</td>\n",
       "      <td>1.085516</td>\n",
       "      <td>0.491303</td>\n",
       "      <td>0.730568</td>\n",
       "      <td>1.177632</td>\n",
       "      <td>0.923639</td>\n",
       "      <td>1.138075</td>\n",
       "      <td>-0.205431</td>\n",
       "      <td>-1.006944</td>\n",
       "      <td>0.0</td>\n",
       "    </tr>\n",
       "  </tbody>\n",
       "</table>\n",
       "<p>176652 rows × 12 columns</p>\n",
       "</div>"
      ],
      "text/plain": [
       "               0         1         2         3         4         5         6  \\\n",
       "0      -0.562032  0.044934  0.118010  1.085516 -0.057017  0.730568 -0.315536   \n",
       "1       0.474032  0.044934 -1.761117 -0.921221  0.238916 -1.601813  0.711763   \n",
       "2      -0.044000  0.044934 -1.761117 -0.921221 -0.268164  0.212261 -1.091983   \n",
       "4       0.538786  0.044934  0.118010  1.085516  1.197796 -1.601813  0.210059   \n",
       "5      -0.756293  0.044934 -0.408146  1.085516 -1.807175  0.730568 -1.199491   \n",
       "...          ...       ...       ...       ...       ...       ...       ...   \n",
       "259547 -0.691539  0.044934  1.245486  1.085516 -0.197488  0.730568 -0.614169   \n",
       "259548 -0.626786  0.044934  0.719331  1.085516  0.276017  0.730568 -1.414507   \n",
       "259549 -0.238262  0.044934 -0.483311 -0.921221 -1.807175  0.804612  0.974561   \n",
       "259550 -0.885801  0.044934  0.268340  1.085516 -1.807175  0.730568  0.652037   \n",
       "259551 -1.015309  0.044934  0.118010  1.085516  0.491303  0.730568  1.177632   \n",
       "\n",
       "               7         8         9        10  Response  \n",
       "0      -1.082674  1.138075 -0.205431 -1.006944       1.0  \n",
       "1       0.923639 -0.878677 -0.205431  0.993104       0.0  \n",
       "2       0.923639 -0.878677 -0.205431  0.993104       1.0  \n",
       "4      -1.082674 -0.878677 -0.205431 -1.006944       0.0  \n",
       "5       0.923639  1.138075 -0.205431 -1.006944       0.0  \n",
       "...          ...       ...       ...       ...       ...  \n",
       "259547 -1.082674  1.138075 -0.205431 -1.006944       0.0  \n",
       "259548 -1.082674  1.138075 -0.205431 -1.006944       0.0  \n",
       "259549 -1.082674 -0.878677 -0.205431  0.993104       0.0  \n",
       "259550 -1.082674  1.138075 -0.205431 -1.006944       1.0  \n",
       "259551  0.923639  1.138075 -0.205431 -1.006944       0.0  \n",
       "\n",
       "[176652 rows x 12 columns]"
      ]
     },
     "execution_count": 40,
     "metadata": {},
     "output_type": "execute_result"
    }
   ],
   "source": [
    "df_train = pd.concat([X_train, y_train], axis=1)\n",
    "df_train.dropna()"
   ]
  },
  {
   "cell_type": "code",
   "execution_count": 41,
   "id": "5281d101",
   "metadata": {},
   "outputs": [
    {
     "data": {
      "text/plain": [
       "0.0    227883\n",
       "1.0     31669\n",
       "Name: Response, dtype: int64"
      ]
     },
     "execution_count": 41,
     "metadata": {},
     "output_type": "execute_result"
    }
   ],
   "source": [
    "df_train['Response'].value_counts()"
   ]
  },
  {
   "cell_type": "markdown",
   "id": "b979e116",
   "metadata": {},
   "source": [
    "Random Over Sampling method"
   ]
  },
  {
   "cell_type": "code",
   "execution_count": 42,
   "id": "f179e80d",
   "metadata": {},
   "outputs": [
    {
     "name": "stdout",
     "output_type": "stream",
     "text": [
      "Requirement already satisfied: imbalanced-learn in d:\\archana\\lib\\site-packages (0.9.1)\n",
      "Requirement already satisfied: scikit-learn>=1.1.0 in d:\\archana\\lib\\site-packages (from imbalanced-learn) (1.1.1)\n",
      "Requirement already satisfied: scipy>=1.3.2 in d:\\archana\\lib\\site-packages (from imbalanced-learn) (1.7.1)\n",
      "Requirement already satisfied: numpy>=1.17.3 in d:\\archana\\lib\\site-packages (from imbalanced-learn) (1.20.3)\n",
      "Requirement already satisfied: joblib>=1.0.0 in d:\\archana\\lib\\site-packages (from imbalanced-learn) (1.1.0)\n",
      "Requirement already satisfied: threadpoolctl>=2.0.0 in d:\\archana\\lib\\site-packages (from imbalanced-learn) (2.2.0)\n"
     ]
    },
    {
     "data": {
      "text/plain": [
       "((455887, 11), (195381, 11), (455887,))"
      ]
     },
     "execution_count": 42,
     "metadata": {},
     "output_type": "execute_result"
    }
   ],
   "source": [
    "!pip install imbalanced-learn\n",
    "from imblearn.over_sampling import RandomOverSampler\n",
    "from imblearn.combine import SMOTETomek\n",
    "from sklearn.pipeline import Pipeline\n",
    "from sklearn.model_selection import RepeatedStratifiedKFold\n",
    "from sklearn.model_selection import cross_val_score\n",
    "import numpy as np\n",
    "from sklearn.tree import DecisionTreeClassifier\n",
    "from sklearn.ensemble import RandomForestClassifier\n",
    "random_os=RandomOverSampler(random_state=0)\n",
    "smote_os=SMOTETomek()\n",
    "X_os,y_os=random_os.fit_resample(X,y)\n",
    "smote_os=smote_os.fit_resample(X,y)\n",
    "X_train_os,X_test_os,y_train_os,y_test_os=train_test_split(X_os,y_os,test_size=0.3,random_state=1)\n",
    "X_train_os.shape,X_test_os.shape,y_train_os.shape"
   ]
  },
  {
   "cell_type": "code",
   "execution_count": 43,
   "id": "c0ecd62c",
   "metadata": {},
   "outputs": [
    {
     "name": "stdout",
     "output_type": "stream",
     "text": [
      "              precision    recall  f1-score   support\n",
      "\n",
      "           0       0.95      0.60      0.74     97600\n",
      "           1       0.71      0.97      0.82     97781\n",
      "\n",
      "    accuracy                           0.78    195381\n",
      "   macro avg       0.83      0.78      0.78    195381\n",
      "weighted avg       0.83      0.78      0.78    195381\n",
      "\n"
     ]
    }
   ],
   "source": [
    "#### LogReg Model Base + Random Over Sampling\n",
    "os_LR = LogisticRegression()\n",
    "os_LR.fit(X_train_os, y_train_os)\n",
    "y_os_LR = os_LR.predict(X_test_os)\n",
    "print(classification_report(y_test_os, y_os_LR)) ## test data"
   ]
  },
  {
   "cell_type": "code",
   "execution_count": 44,
   "id": "ddba999f",
   "metadata": {},
   "outputs": [
    {
     "name": "stdout",
     "output_type": "stream",
     "text": [
      "[[94915  2866]\n",
      " [39214 58386]]\n"
     ]
    }
   ],
   "source": [
    "cm_LR = confusion_matrix(y_test_os, y_os_LR, labels=[1 , 0])\n",
    "print(cm_LR)"
   ]
  },
  {
   "cell_type": "code",
   "execution_count": 45,
   "id": "8ba66007",
   "metadata": {},
   "outputs": [
    {
     "name": "stdout",
     "output_type": "stream",
     "text": [
      "              precision    recall  f1-score   support\n",
      "\n",
      "           0       1.00      0.89      0.94     97600\n",
      "           1       0.90      1.00      0.94     97781\n",
      "\n",
      "    accuracy                           0.94    195381\n",
      "   macro avg       0.95      0.94      0.94    195381\n",
      "weighted avg       0.95      0.94      0.94    195381\n",
      "\n"
     ]
    }
   ],
   "source": [
    "os_RF = RandomForestClassifier()\n",
    "os_RF.fit(X_train_os, y_train_os)\n",
    "y_os_RF = os_RF.predict(X_test_os)\n",
    "print(classification_report(y_test_os, y_os_RF)) ## test data"
   ]
  },
  {
   "cell_type": "code",
   "execution_count": 46,
   "id": "2ad923c7",
   "metadata": {},
   "outputs": [],
   "source": [
    "cm_LR = confusion_matrix(y_test_os, y_os_RF, labels=[1 , 0])"
   ]
  },
  {
   "cell_type": "code",
   "execution_count": 47,
   "id": "02ab33f4",
   "metadata": {},
   "outputs": [],
   "source": [
    "prec_test_LR = precision_score(y_test_os, y_os_LR)\n",
    "#prec_test_KNN = precision_score(y_test, y_os_KNN)\n",
    "prec_test_RF = precision_score(y_test_os, y_os_RF)\n",
    "rec_test_LR = recall_score(y_test_os, y_os_LR)\n",
    "#rec_test_KNN = recall_score(y_test, y_os_KNN)\n",
    "rec_test_RF = recall_score(y_test_os, y_os_RF)\n",
    "EM = {'Precision_Test':[prec_test_LR, prec_test_RF],\n",
    "'Recall_Test':[rec_test_LR, rec_test_RF]}\n",
    "EM_OS = pd.DataFrame(data=EM, index=['LogReg_OS','RF_Clas_OS']).round(2)"
   ]
  },
  {
   "cell_type": "code",
   "execution_count": 48,
   "id": "1d6b747c",
   "metadata": {},
   "outputs": [],
   "source": [
    "#dumping the data into pickle file\n",
    "with open('C:\\\\Users\\\\Dell\\\\Desktop\\\\Vehicle Insurance Dataset\\\\model\\\\train_model.pkl', 'wb') as f:\n",
    "    pickle.dump(EM_OS,f)"
   ]
  },
  {
   "cell_type": "code",
   "execution_count": null,
   "id": "9f8a8e62",
   "metadata": {},
   "outputs": [],
   "source": []
  }
 ],
 "metadata": {
  "kernelspec": {
   "display_name": "Python 3 (ipykernel)",
   "language": "python",
   "name": "python3"
  },
  "language_info": {
   "codemirror_mode": {
    "name": "ipython",
    "version": 3
   },
   "file_extension": ".py",
   "mimetype": "text/x-python",
   "name": "python",
   "nbconvert_exporter": "python",
   "pygments_lexer": "ipython3",
   "version": "3.9.7"
  }
 },
 "nbformat": 4,
 "nbformat_minor": 5
}
